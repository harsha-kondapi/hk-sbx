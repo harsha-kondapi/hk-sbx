{
 "cells": [
  {
   "cell_type": "code",
   "execution_count": 1,
   "id": "ecdb9d7e",
   "metadata": {},
   "outputs": [
    {
     "name": "stdout",
     "output_type": "stream",
     "text": [
      "harsha\n"
     ]
    }
   ],
   "source": [
    "print(\"harsha\")"
   ]
  },
  {
   "cell_type": "code",
   "execution_count": 2,
   "id": "c13a6891",
   "metadata": {},
   "outputs": [
    {
     "name": "stdout",
     "output_type": "stream",
     "text": [
      "12345\n"
     ]
    }
   ],
   "source": [
    "print(\"12345\")"
   ]
  },
  {
   "cell_type": "code",
   "execution_count": 3,
   "id": "1c39f740",
   "metadata": {},
   "outputs": [
    {
     "name": "stdout",
     "output_type": "stream",
     "text": [
      "uiop\n"
     ]
    }
   ],
   "source": [
    "print(\"uiop\")"
   ]
  },
  {
   "cell_type": "code",
   "execution_count": null,
   "id": "0f0e0b72",
   "metadata": {},
   "outputs": [],
   "source": []
  }
 ],
 "metadata": {
  "kernelspec": {
   "display_name": "Python 3 (ipykernel)",
   "language": "python",
   "name": "python3"
  },
  "language_info": {
   "codemirror_mode": {
    "name": "ipython",
    "version": 3
   },
   "file_extension": ".py",
   "mimetype": "text/x-python",
   "name": "python",
   "nbconvert_exporter": "python",
   "pygments_lexer": "ipython3",
   "version": "3.9.13"
  }
 },
 "nbformat": 4,
 "nbformat_minor": 5
}
